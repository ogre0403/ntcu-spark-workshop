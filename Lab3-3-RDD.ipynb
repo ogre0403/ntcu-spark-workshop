{
 "cells": [
  {
   "cell_type": "code",
   "execution_count": null,
   "metadata": {
    "collapsed": true
   },
   "outputs": [],
   "source": [
    "global Path  \n",
    "Path=\"file:/home/spark/ntcu_workshop/\"\n",
    "log_file_path=Path+\"data/NASA_access_log_Aug95\"\n",
    "base_df = spark.read.text(log_file_path)"
   ]
  },
  {
   "cell_type": "code",
   "execution_count": null,
   "metadata": {
    "collapsed": false
   },
   "outputs": [],
   "source": [
    "from pyspark.sql.functions import split, regexp_extract\n",
    "split_df = base_df.select(regexp_extract('value', r'^([^\\s]+\\s)', 1).alias('host'),\n",
    "                          regexp_extract('value', r'^.*\\[(\\d\\d/\\w{3}/\\d{4}:\\d{2}:\\d{2}:\\d{2} -\\d{4})]', 1).alias('timestamp'),\n",
    "                          regexp_extract('value', r'^.*\"\\w+\\s+([^\\s]+)\\s+HTTP.*\"', 1).alias('path'),\n",
    "                          regexp_extract('value', r'^.*\"\\s+([^\\s]+)', 1).cast('integer').alias('status'),\n",
    "                          regexp_extract('value', r'^.*\\s+(\\d+)$', 1).cast('integer').alias('content_size'))\n",
    "split_df.count()"
   ]
  },
  {
   "cell_type": "code",
   "execution_count": null,
   "metadata": {
    "collapsed": false
   },
   "outputs": [],
   "source": [
    "logs_df = split_df.filter(~split_df['host'].isNull() &\n",
    "                              ~split_df['timestamp'].isNull() &\n",
    "                              ~split_df['path'].isNull() &\n",
    "                              ~split_df['status'].isNull() &\n",
    "                             ~split_df['content_size'].isNull())\n",
    "logs_df.printSchema()\n",
    "logs_rdd = logs_df.rdd\n",
    "logs_rdd.count()"
   ]
  },
  {
   "cell_type": "code",
   "execution_count": null,
   "metadata": {
    "collapsed": false
   },
   "outputs": [],
   "source": [
    "not_found_rdd = logs_rdd.filter(lambda r: r['status'] == 304)\n",
    "not_found_rdd.cache()\n",
    "\n",
    "print('Found {0} 304 URLs').format(not_found_rdd.count())"
   ]
  },
  {
   "cell_type": "code",
   "execution_count": null,
   "metadata": {
    "collapsed": false
   },
   "outputs": [],
   "source": [
    "top_20_not_found_rdd = not_found_rdd.map(lambda r: (r['path'],1))\\\n",
    "                                    .reduceByKey(lambda x,y: x+y)\\\n",
    "                                    .sortBy(lambda kv: kv[1], ascending=False)\n",
    "top_20_not_found_rdd.take(20)"
   ]
  },
  {
   "cell_type": "code",
   "execution_count": null,
   "metadata": {
    "collapsed": false
   },
   "outputs": [],
   "source": [
    "hosts_304_count_rdd = not_found_rdd.map(lambda r: (r['host'],1))\\\n",
    "                                   .reduceByKey(lambda x,y: x+y)\\\n",
    "                                   .takeOrdered(20, key = lambda x: -x[1])\n",
    "        \n",
    "print 'Top 25 hosts that generated errors:\\n'\n",
    "hosts_304_count_rdd"
   ]
  },
  {
   "cell_type": "code",
   "execution_count": null,
   "metadata": {
    "collapsed": true
   },
   "outputs": [],
   "source": []
  }
 ],
 "metadata": {
  "kernelspec": {
   "display_name": "Python 2",
   "language": "python",
   "name": "python2"
  },
  "language_info": {
   "codemirror_mode": {
    "name": "ipython",
    "version": 2
   },
   "file_extension": ".py",
   "mimetype": "text/x-python",
   "name": "python",
   "nbconvert_exporter": "python",
   "pygments_lexer": "ipython2",
   "version": "2.7.11"
  }
 },
 "nbformat": 4,
 "nbformat_minor": 0
}
