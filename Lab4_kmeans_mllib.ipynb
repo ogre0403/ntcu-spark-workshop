{
 "cells": [
  {
   "cell_type": "code",
   "execution_count": 7,
   "metadata": {
    "collapsed": true
   },
   "outputs": [],
   "source": [
    "import random\n",
    "import matplotlib.pyplot as plt\n",
    "%matplotlib inline\n",
    "import numpy as np\n",
    "from pyspark.mllib.clustering import KMeans, KMeansModel"
   ]
  },
  {
   "cell_type": "markdown",
   "metadata": {},
   "source": [
    "# create utility functions"
   ]
  },
  {
   "cell_type": "code",
   "execution_count": 20,
   "metadata": {
    "collapsed": true
   },
   "outputs": [],
   "source": [
    "def parseVector2(tuple):\n",
    "    return np.array([tuple[0], tuple[1]])"
   ]
  },
  {
   "cell_type": "markdown",
   "metadata": {},
   "source": [
    "# 產生sample data"
   ]
  },
  {
   "cell_type": "code",
   "execution_count": 21,
   "metadata": {
    "collapsed": true
   },
   "outputs": [],
   "source": [
    "x1 = [random.uniform(-3,-1) for i in range(30)]\n",
    "y1 = [random.uniform(-0.5,0.5) for i in range(30)]\n",
    "p1x = sc.parallelize(x1)\n",
    "p1y = sc.parallelize(y1)\n",
    "p1 = p1x.zip(p1y)\n",
    "\n",
    "x2 = [random.uniform(-1,1) for i in range(30)]\n",
    "y2 = [random.uniform(0.5,1.5) for i in range(30)]\n",
    "p2x = sc.parallelize(x2)\n",
    "p2y = sc.parallelize(y2)\n",
    "p2 = p2x.zip(p2y)\n",
    "\n",
    "x3 = [random.uniform(1,3) for i in range(30)]\n",
    "y3 = [random.uniform(-0.5,0.5) for i in range(30)]\n",
    "p3x = sc.parallelize(x3)\n",
    "p3y = sc.parallelize(y3)\n",
    "p3 = p3x.zip(p3y)\n",
    "\n",
    "data = p1.union(p2).union(p3).map(parseVector2).cache()"
   ]
  },
  {
   "cell_type": "code",
   "execution_count": 23,
   "metadata": {
    "collapsed": false
   },
   "outputs": [
    {
     "data": {
      "text/plain": [
       "array([-2.40871227, -0.25138063])"
      ]
     },
     "execution_count": 23,
     "metadata": {},
     "output_type": "execute_result"
    }
   ],
   "source": [
    "data.first()"
   ]
  },
  {
   "cell_type": "markdown",
   "metadata": {},
   "source": [
    "# training"
   ]
  },
  {
   "cell_type": "code",
   "execution_count": 11,
   "metadata": {
    "collapsed": true
   },
   "outputs": [],
   "source": [
    "clusters = KMeans.train(data, 3, maxIterations=10, initializationMode=\"random\")"
   ]
  },
  {
   "cell_type": "markdown",
   "metadata": {},
   "source": [
    "# validation"
   ]
  },
  {
   "cell_type": "code",
   "execution_count": 27,
   "metadata": {
    "collapsed": false
   },
   "outputs": [
    {
     "data": {
      "text/plain": [
       "[array([ 1.96624695,  0.05332649]),\n",
       " array([-2.03124225, -0.10768516]),\n",
       " array([ 0.0239405 ,  1.05613835])]"
      ]
     },
     "execution_count": 27,
     "metadata": {},
     "output_type": "execute_result"
    }
   ],
   "source": [
    "clusters.centers"
   ]
  },
  {
   "cell_type": "code",
   "execution_count": 19,
   "metadata": {
    "collapsed": false
   },
   "outputs": [
    {
     "data": {
      "text/plain": [
       "[<matplotlib.lines.Line2D at 0x7f985db05910>]"
      ]
     },
     "execution_count": 19,
     "metadata": {},
     "output_type": "execute_result"
    },
    {
     "data": {
      "image/png": "[encoded data removed]",
      "text/plain": [
       "<matplotlib.figure.Figure at 0x7f985dc3e790>"
      ]
     },
     "metadata": {},
     "output_type": "display_data"
    }
   ],
   "source": [
    "plt.axis([-5, 5, -1, 2])\n",
    "plt.plot(x1,y1,'r*')\n",
    "plt.plot(x2,y2,'bs')\n",
    "plt.plot(x3,y3,'gx')\n",
    "\n",
    "plt.plot(clusters.centers[0][0],clusters.centers[0][1],'yo')\n",
    "plt.plot(clusters.centers[1][0],clusters.centers[1][1],'yo')\n",
    "plt.plot(clusters.centers[2][0],clusters.centers[2][1],'yo')"
   ]
  },
  {
   "cell_type": "markdown",
   "metadata": {},
   "source": [
    "# prediction"
   ]
  },
  {
   "cell_type": "code",
   "execution_count": 33,
   "metadata": {
    "collapsed": false
   },
   "outputs": [
    {
     "data": {
      "image/png": "[encoded data removed]",
      "text/plain": [
       "<matplotlib.figure.Figure at 0x7f985d54aad0>"
      ]
     },
     "metadata": {},
     "output_type": "display_data"
    }
   ],
   "source": [
    "for p in data.take(10):\n",
    "    predict = clusters.predict(p)\n",
    "    plt.plot(clusters.centers[predict][0], clusters.centers[predict][1], 'bo')\n",
    "    plt.plot(p[0],p[1],'r*')"
   ]
  }
 ],
 "metadata": {
  "kernelspec": {
   "display_name": "Python 2",
   "language": "python",
   "name": "python2"
  },
  "language_info": {
   "codemirror_mode": {
    "name": "ipython",
    "version": 2
   },
   "file_extension": ".py",
   "mimetype": "text/x-python",
   "name": "python",
   "nbconvert_exporter": "python",
   "pygments_lexer": "ipython2",
   "version": "2.7.11"
  }
 },
 "nbformat": 4,
 "nbformat_minor": 0
}
