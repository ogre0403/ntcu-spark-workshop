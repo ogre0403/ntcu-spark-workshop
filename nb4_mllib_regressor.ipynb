{
 "cells": [
  {
   "cell_type": "code",
   "execution_count": null,
   "metadata": {
    "collapsed": true
   },
   "outputs": [],
   "source": [
    "import numpy as np\n",
    "from pyspark.mllib.regression import LabeledPoint\n",
    "from pyspark.mllib.evaluation import RegressionMetrics\n",
    "from pyspark.mllib.tree import DecisionTree\n",
    "import math "
   ]
  },
  {
   "cell_type": "code",
   "execution_count": 39,
   "metadata": {
    "collapsed": true
   },
   "outputs": [],
   "source": [
    "#----------------------3.定義字典----------------\n",
    "SeasonDict = { 1 : \"春\",  2 : \"夏\",  3 :\"秋\",  4 : \"冬\"   }\n",
    "HoildayDict={  0 : \"非假日\", 1 : \"假日\"  }  \n",
    "WeekDict = {0:\"一\",1:\"二\",2:\"三\",3:\"四\",4 :\"五\",5:\"六\",6:\"日\"}\n",
    "WorkDayDict={ 1 : \"工作日\",  0 : \"非工作日\"  }\n",
    "WeatherDict={ 1 : \"晴\",  2 : \"陰\",  3 : \"小雨\", 4 : \"大雨\" }"
   ]
  },
  {
   "cell_type": "code",
   "execution_count": null,
   "metadata": {
    "collapsed": true
   },
   "outputs": [],
   "source": [
    "global Path  \n",
    "Path=\"file:/home/spark/ntcu_workshop/\""
   ]
  },
  {
   "cell_type": "code",
   "execution_count": null,
   "metadata": {
    "collapsed": true
   },
   "outputs": [],
   "source": [
    "def convert_float(x):\n",
    "    return (0 if x==\"?\" else float(x))"
   ]
  },
  {
   "cell_type": "code",
   "execution_count": null,
   "metadata": {
    "collapsed": true
   },
   "outputs": [],
   "source": [
    "def extract_label(record):\n",
    "    label=(record[-1])\n",
    "    return float(label)"
   ]
  },
  {
   "cell_type": "code",
   "execution_count": null,
   "metadata": {
    "collapsed": true
   },
   "outputs": [],
   "source": [
    "def extract_features(record,featureEnd):\n",
    "    featureSeason=[convert_float(field)  for  field in record[2]] \n",
    "    features=[convert_float(field)  for  field in record[4: featureEnd-2]]\n",
    "    return  np.concatenate( (featureSeason, features))"
   ]
  },
  {
   "cell_type": "code",
   "execution_count": null,
   "metadata": {
    "collapsed": true
   },
   "outputs": [],
   "source": [
    "def evaluateModel(model, validationData):\n",
    "    score = model.predict(validationData.map(lambda p: p.features))\n",
    "    scoreAndLabels=score.zip(validationData.map(lambda p: p.label))\n",
    "    metrics = RegressionMetrics(scoreAndLabels)\n",
    "    RMSE=metrics.rootMeanSquaredError\n",
    "    return( RMSE)"
   ]
  },
  {
   "cell_type": "code",
   "execution_count": null,
   "metadata": {
    "collapsed": false
   },
   "outputs": [],
   "source": [
    "#----------------------1.匯入並轉換資料-------------\n",
    "print(\"開始匯入資料...\")\n",
    "rawDataWithHeader = sc.textFile(Path+\"data/hour.csv\")\n",
    "header = rawDataWithHeader.first() \n",
    "rawData = rawDataWithHeader.filter(lambda x:x !=header)    \n",
    "lines = rawData.map(lambda x: x.split(\",\"))\n",
    "print (lines.first())\n",
    "print(\"共計：\" + str(lines.count()) + \"筆\")\n",
    "#----------------------2.建立訓練評估所需資料 RDD[LabeledPoint]-------------\n",
    "labelpointRDD = lines.map(lambda r:LabeledPoint(\n",
    "                                        extract_label(r), \n",
    "                                        extract_features(r,len(r) - 1)))\n",
    "\n",
    "print labelpointRDD.first()\n",
    "#----------------------3.以隨機方式將資料分為3部份並且回傳-------------\n",
    "(trainData, validationData, testData) = labelpointRDD.randomSplit([8, 1, 1])\n",
    "trainData.persist()\n",
    "validationData.persist()\n",
    "testData.persist()"
   ]
  },
  {
   "cell_type": "code",
   "execution_count": 35,
   "metadata": {
    "collapsed": false
   },
   "outputs": [],
   "source": [
    "model = DecisionTree.trainRegressor(trainData, categoricalFeaturesInfo={}, impurity=\"variance\", maxDepth=10, maxBins=100)\n",
    "RMSE = evaluateModel(model, validationData)"
   ]
  },
  {
   "cell_type": "code",
   "execution_count": 36,
   "metadata": {
    "collapsed": false
   },
   "outputs": [
    {
     "data": {
      "text/plain": [
       "79.29740294363832"
      ]
     },
     "execution_count": 36,
     "metadata": {},
     "output_type": "execute_result"
    }
   ],
   "source": [
    "RMSE"
   ]
  },
  {
   "cell_type": "code",
   "execution_count": 38,
   "metadata": {
    "collapsed": false
   },
   "outputs": [
    {
     "name": "stdout",
     "output_type": "stream",
     "text": [
      "==> 預測結果:12  , 實際:13.0錯誤,  誤差:1.0\n",
      "==> 預測結果:85  , 實際:28.0錯誤,  誤差:57.0\n",
      "==> 預測結果:39  , 實際:6.0錯誤,  誤差:33.0\n",
      "==> 預測結果:202  , 實際:182.0錯誤,  誤差:20.0\n",
      "==> 預測結果:125  , 實際:62.0錯誤,  誤差:63.0\n",
      "==> 預測結果:67  , 實際:67.0正確,  誤差:0.0\n",
      "==> 預測結果:59  , 實際:39.0錯誤,  誤差:20.0\n",
      "==> 預測結果:34  , 實際:25.0錯誤,  誤差:9.0\n",
      "==> 預測結果:3  , 實際:1.0錯誤,  誤差:2.0\n",
      "==> 預測結果:103  , 實際:75.0錯誤,  誤差:28.0\n",
      "==> 預測結果:31  , 實際:38.0錯誤,  誤差:7.0\n",
      "==> 預測結果:9  , 實際:3.0錯誤,  誤差:6.0\n",
      "==> 預測結果:258  , 實際:188.0錯誤,  誤差:70.0\n",
      "==> 預測結果:67  , 實際:74.0錯誤,  誤差:7.0\n",
      "==> 預測結果:127  , 實際:99.0錯誤,  誤差:28.0\n",
      "==> 預測結果:87  , 實際:32.0錯誤,  誤差:55.0\n",
      "==> 預測結果:22  , 實際:19.0錯誤,  誤差:3.0\n",
      "==> 預測結果:2  , 實際:2.0正確,  誤差:0.0\n",
      "==> 預測結果:258  , 實際:202.0錯誤,  誤差:56.0\n",
      "==> 預測結果:67  , 實際:42.0錯誤,  誤差:25.0\n",
      "==> 預測結果:148  , 實際:117.0錯誤,  誤差:31.0\n",
      "==> 預測結果:67  , 實際:61.0錯誤,  誤差:6.0\n",
      "==> 預測結果:13  , 實際:10.0錯誤,  誤差:3.0\n",
      "==> 預測結果:53  , 實際:33.0錯誤,  誤差:20.0\n",
      "==> 預測結果:89  , 實際:41.0錯誤,  誤差:48.0\n",
      "==> 預測結果:2  , 實際:1.0錯誤,  誤差:1.0\n",
      "==> 預測結果:98  , 實際:32.0錯誤,  誤差:66.0\n",
      "==> 預測結果:127  , 實際:99.0錯誤,  誤差:28.0\n",
      "==> 預測結果:80  , 實際:61.0錯誤,  誤差:19.0\n",
      "==> 預測結果:14  , 實際:5.0錯誤,  誤差:9.0\n",
      "==> 預測結果:103  , 實際:86.0錯誤,  誤差:17.0\n",
      "==> 預測結果:67  , 實際:28.0錯誤,  誤差:39.0\n",
      "==> 預測結果:123  , 實際:99.0錯誤,  誤差:24.0\n",
      "==> 預測結果:87  , 實際:83.0錯誤,  誤差:4.0\n",
      "==> 預測結果:175  , 實際:78.0錯誤,  誤差:97.0\n",
      "==> 預測結果:202  , 實際:161.0錯誤,  誤差:41.0\n",
      "==> 預測結果:202  , 實際:112.0錯誤,  誤差:90.0\n",
      "==> 預測結果:10  , 實際:6.0錯誤,  誤差:4.0\n",
      "==> 預測結果:47  , 實際:31.0錯誤,  誤差:16.0\n",
      "==> 預測結果:67  , 實際:59.0錯誤,  誤差:8.0\n",
      "==> 預測結果:67  , 實際:62.0錯誤,  誤差:5.0\n",
      "==> 預測結果:169  , 實際:120.0錯誤,  誤差:49.0\n",
      "==> 預測結果:103  , 實際:63.0錯誤,  誤差:40.0\n",
      "==> 預測結果:31  , 實際:39.0錯誤,  誤差:8.0\n",
      "==> 預測結果:18  , 實際:22.0錯誤,  誤差:4.0\n",
      "==> 預測結果:24  , 實際:18.0錯誤,  誤差:6.0\n",
      "==> 預測結果:59  , 實際:59.0正確,  誤差:0.0\n",
      "==> 預測結果:20  , 實際:35.0錯誤,  誤差:15.0\n",
      "==> 預測結果:9  , 實際:9.0正確,  誤差:0.0\n",
      "==> 預測結果:5  , 實際:5.0正確,  誤差:0.0\n",
      "==> 預測結果:2  , 實際:1.0錯誤,  誤差:1.0\n",
      "==> 預測結果:127  , 實際:60.0錯誤,  誤差:67.0\n",
      "==> 預測結果:147  , 實際:109.0錯誤,  誤差:38.0\n",
      "==> 預測結果:147  , 實際:89.0錯誤,  誤差:58.0\n",
      "==> 預測結果:68  , 實際:62.0錯誤,  誤差:6.0\n",
      "==> 預測結果:77  , 實際:26.0錯誤,  誤差:51.0\n",
      "==> 預測結果:47  , 實際:23.0錯誤,  誤差:24.0\n",
      "==> 預測結果:13  , 實際:5.0錯誤,  誤差:8.0\n",
      "==> 預測結果:4  , 實際:3.0錯誤,  誤差:1.0\n",
      "==> 預測結果:178  , 實際:97.0錯誤,  誤差:81.0\n",
      "==> 預測結果:178  , 實際:84.0錯誤,  誤差:94.0\n",
      "==> 預測結果:127  , 實際:55.0錯誤,  誤差:72.0\n",
      "==> 預測結果:67  , 實際:48.0錯誤,  誤差:19.0\n",
      "==> 預測結果:67  , 實際:86.0錯誤,  誤差:19.0\n",
      "==> 預測結果:15  , 實際:3.0錯誤,  誤差:12.0\n",
      "==> 預測結果:67  , 實際:47.0錯誤,  誤差:20.0\n",
      "==> 預測結果:104  , 實際:168.0錯誤,  誤差:64.0\n",
      "==> 預測結果:104  , 實際:108.0錯誤,  誤差:4.0\n",
      "==> 預測結果:104  , 實際:103.0錯誤,  誤差:1.0\n",
      "==> 預測結果:59  , 實際:63.0錯誤,  誤差:4.0\n",
      "==> 預測結果:1  , 實際:1.0正確,  誤差:0.0\n",
      "==> 預測結果:22  , 實際:38.0錯誤,  誤差:16.0\n",
      "==> 預測結果:2  , 實際:1.0錯誤,  誤差:1.0\n",
      "==> 預測結果:21  , 實際:28.0錯誤,  誤差:7.0\n",
      "==> 預測結果:77  , 實際:46.0錯誤,  誤差:31.0\n",
      "==> 預測結果:271  , 實際:182.0錯誤,  誤差:89.0\n",
      "==> 預測結果:271  , 實際:182.0錯誤,  誤差:89.0\n",
      "==> 預測結果:77  , 實際:62.0錯誤,  誤差:15.0\n",
      "==> 預測結果:25  , 實際:30.0錯誤,  誤差:5.0\n",
      "==> 預測結果:201  , 實際:50.0錯誤,  誤差:151.0\n",
      "==> 預測結果:224  , 實際:100.0錯誤,  誤差:124.0\n",
      "==> 預測結果:67  , 實際:51.0錯誤,  誤差:16.0\n",
      "==> 預測結果:67  , 實際:41.0錯誤,  誤差:26.0\n",
      "==> 預測結果:9  , 實際:16.0錯誤,  誤差:7.0\n",
      "==> 預測結果:67  , 實際:45.0錯誤,  誤差:22.0\n",
      "==> 預測結果:67  , 實際:64.0錯誤,  誤差:3.0\n",
      "==> 預測結果:24  , 實際:15.0錯誤,  誤差:9.0\n",
      "==> 預測結果:4  , 實際:2.0錯誤,  誤差:2.0\n",
      "==> 預測結果:55  , 實際:30.0錯誤,  誤差:25.0\n",
      "==> 預測結果:89  , 實際:51.0錯誤,  誤差:38.0\n",
      "==> 預測結果:12  , 實際:12.0正確,  誤差:0.0\n",
      "==> 預測結果:178  , 實際:105.0錯誤,  誤差:73.0\n",
      "==> 預測結果:195  , 實際:61.0錯誤,  誤差:134.0\n",
      "==> 預測結果:36  , 實際:36.0正確,  誤差:0.0\n",
      "==> 預測結果:6  , 實際:7.0錯誤,  誤差:1.0\n",
      "==> 預測結果:179  , 實際:70.0錯誤,  誤差:109.0\n",
      "==> 預測結果:148  , 實際:43.0錯誤,  誤差:105.0\n",
      "==> 預測結果:125  , 實際:71.0錯誤,  誤差:54.0\n",
      "==> 預測結果:175  , 實際:117.0錯誤,  誤差:58.0\n",
      "==> 預測結果:175  , 實際:122.0錯誤,  誤差:53.0\n"
     ]
    }
   ],
   "source": [
    "for lp in validationData.take(100):\n",
    "        predict = int(model.predict(lp.features))\n",
    "        label=lp.label\n",
    "        features=lp.features\n",
    "        result = (\"正確\" if  (label == predict) else \"錯誤\")\n",
    "        error = math.fabs(label - predict)\n",
    "        dataDesc = \"==> 預測結果:\" + str(predict ) + \" , 實際: \" + str(label) + result +\", 誤差:\" + str(error)\n",
    "        print dataDesc"
   ]
  },
  {
   "cell_type": "code",
   "execution_count": null,
   "metadata": {
    "collapsed": true
   },
   "outputs": [],
   "source": []
  }
 ],
 "metadata": {
  "kernelspec": {
   "display_name": "Python 2",
   "language": "python",
   "name": "python2"
  },
  "language_info": {
   "codemirror_mode": {
    "name": "ipython",
    "version": 2
   },
   "file_extension": ".py",
   "mimetype": "text/x-python",
   "name": "python",
   "nbconvert_exporter": "python",
   "pygments_lexer": "ipython2",
   "version": "2.7.11"
  }
 },
 "nbformat": 4,
 "nbformat_minor": 0
}
