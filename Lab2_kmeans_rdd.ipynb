{
 "cells": [
  {
   "cell_type": "markdown",
   "metadata": {
    "collapsed": true
   },
   "source": [
    "# Lab2: 使用Spark 建立k-means\n"
   ]
  },
  {
   "cell_type": "code",
   "execution_count": null,
   "metadata": {
    "collapsed": true
   },
   "outputs": [],
   "source": [
    "import numpy as np\n",
    "import random\n",
    "import matplotlib.pyplot as plt\n",
    "%matplotlib inline"
   ]
  },
  {
   "cell_type": "markdown",
   "metadata": {},
   "source": [
    "## define utility functions"
   ]
  },
  {
   "cell_type": "code",
   "execution_count": null,
   "metadata": {
    "collapsed": true
   },
   "outputs": [],
   "source": [
    "def parseVector2(tuple):\n",
    "    return np.array([tuple[0], tuple[1]])\n",
    "\n",
    "def closestPoint(p, centers):\n",
    "    bestIndex = 0\n",
    "    closest = float(\"+inf\")\n",
    "    for i in range(len(centers)):\n",
    "        tempDist = np.sum((p - centers[i]) ** 2)\n",
    "        if tempDist < closest:\n",
    "            closest = tempDist\n",
    "            bestIndex = i\n",
    "    return bestIndex"
   ]
  },
  {
   "cell_type": "markdown",
   "metadata": {},
   "source": [
    "## create an RDD of 90 random vectors"
   ]
  },
  {
   "cell_type": "code",
   "execution_count": null,
   "metadata": {
    "collapsed": false
   },
   "outputs": [],
   "source": [
    "x1 = [random.uniform(-3,-1) for i in range(30)]\n",
    "y1 = [random.uniform(-0.5,0.5) for i in range(30)]\n",
    "\n",
    "x2 = [random.uniform(-1,1) for i in range(30)]\n",
    "y2 = [random.uniform(0.5,1.5) for i in range(30)]\n",
    "\n",
    "x3 = [random.uniform(1,3) for i in range(30)]\n",
    "y3 = [random.uniform(-0.5,0.5) for i in range(30)]\n",
    "\n",
    "plt.axis([-5, 5, -1, 2])\n",
    "plt.plot(x1,y1,'r*')\n",
    "plt.plot(x2,y2,'bs')\n",
    "plt.plot(x3,y3,'gx')"
   ]
  },
  {
   "cell_type": "markdown",
   "metadata": {},
   "source": [
    "## create data RDD"
   ]
  },
  {
   "cell_type": "code",
   "execution_count": null,
   "metadata": {
    "collapsed": true
   },
   "outputs": [],
   "source": [
    "p1x = sc.parallelize(x1)\n",
    "p1y = sc.parallelize(y1)\n",
    "p1 = p1x.zip(p1y)\n",
    "\n",
    "p2x = sc.parallelize(x2)\n",
    "p2y = sc.parallelize(y2)\n",
    "p2 = p2x.zip(p2y)\n",
    "\n",
    "p3x = sc.parallelize(x3)\n",
    "p3y = sc.parallelize(y3)\n",
    "p3 = p3x.zip(p3y)\n",
    "\n",
    "data = p1.union(p2).union(p3).map(parseVector2).cache()"
   ]
  },
  {
   "cell_type": "code",
   "execution_count": null,
   "metadata": {
    "collapsed": false
   },
   "outputs": [],
   "source": [
    "K = 3\n",
    "convergeDist = 0.01\n",
    "\n",
    "kPoints = data.takeSample(False, K, 2)\n",
    "tempDist = 1.0\n",
    "\n",
    "kPoints"
   ]
  },
  {
   "cell_type": "markdown",
   "metadata": {},
   "source": [
    "### Main loop"
   ]
  },
  {
   "cell_type": "code",
   "execution_count": null,
   "metadata": {
    "collapsed": false
   },
   "outputs": [],
   "source": [
    "while tempDist > convergeDist:\n",
    "    closest = data.map(lambda p: (closestPoint(p, kPoints), (p, 1)))\n",
    "    pointStats = closest.reduceByKey(lambda p1_c1, p2_c2: (p1_c1[0] + p2_c2[0], p1_c1[1] + p2_c2[1]))\n",
    "    newPoints = pointStats.map(lambda st: (st[0], st[1][0] / st[1][1])).collect()\n",
    "\n",
    "    tempDist = sum(np.sum((kPoints[iK] - p) ** 2) for (iK, p) in newPoints)\n",
    "\n",
    "    for (iK, p) in newPoints:\n",
    "        kPoints[iK] = p\n",
    "\n",
    "\n",
    "print(\"Final centers: \" + str(kPoints))"
   ]
  },
  {
   "cell_type": "markdown",
   "metadata": {},
   "source": [
    "## plot result"
   ]
  },
  {
   "cell_type": "code",
   "execution_count": null,
   "metadata": {
    "collapsed": false
   },
   "outputs": [],
   "source": [
    "plt.axis([-5, 5, -1, 2])\n",
    "plt.plot(x1,y1,'r*')\n",
    "plt.plot(x2,y2,'bs')\n",
    "plt.plot(x3,y3,'gx')\n",
    "\n",
    "plt.plot(kPoints[0][0],kPoints[0][1],'yo')\n",
    "plt.plot(kPoints[1][0],kPoints[1][1],'yo')\n",
    "plt.plot(kPoints[2][0],kPoints[2][1],'yo')"
   ]
  }
 ],
 "metadata": {
  "kernelspec": {
   "display_name": "Python 2",
   "language": "python",
   "name": "python2"
  },
  "language_info": {
   "codemirror_mode": {
    "name": "ipython",
    "version": 2
   },
   "file_extension": ".py",
   "mimetype": "text/x-python",
   "name": "python",
   "nbconvert_exporter": "python",
   "pygments_lexer": "ipython2",
   "version": "2.7.11"
  }
 },
 "nbformat": 4,
 "nbformat_minor": 0
}
