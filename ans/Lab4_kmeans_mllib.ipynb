{
 "cells": [
  {
   "cell_type": "code",
   "execution_count": 29,
   "metadata": {
    "collapsed": true
   },
   "outputs": [],
   "source": [
    "import random\n",
    "import matplotlib.pyplot as plt\n",
    "%matplotlib inline\n",
    "from pyspark.mllib.clustering import KMeans, KMeansModel"
   ]
  },
  {
   "cell_type": "markdown",
   "metadata": {},
   "source": [
    "# 產生sample data"
   ]
  },
  {
   "cell_type": "code",
   "execution_count": 30,
   "metadata": {
    "collapsed": false
   },
   "outputs": [
    {
     "data": {
      "text/plain": [
       "(-1.3162996856301623, 0.33898291553952464)"
      ]
     },
     "execution_count": 30,
     "metadata": {},
     "output_type": "execute_result"
    }
   ],
   "source": [
    "x1 = [random.uniform(-3,-1) for i in range(30)]\n",
    "y1 = [random.uniform(-0.5,0.5) for i in range(30)]\n",
    "p1x = sc.parallelize(x1)\n",
    "p1y = sc.parallelize(y1)\n",
    "p1 = p1x.zip(p1y)\n",
    "\n",
    "x2 = [random.uniform(-1,1) for i in range(30)]\n",
    "y2 = [random.uniform(0.5,1.5) for i in range(30)]\n",
    "p2x = sc.parallelize(x2)\n",
    "p2y = sc.parallelize(y2)\n",
    "p2 = p2x.zip(p2y)\n",
    "\n",
    "x3 = [random.uniform(1,3) for i in range(30)]\n",
    "y3 = [random.uniform(-0.5,0.5) for i in range(30)]\n",
    "p3x = sc.parallelize(x3)\n",
    "p3y = sc.parallelize(y3)\n",
    "p3 = p3x.zip(p3y)\n",
    "\n",
    "\n",
    "tuple_data = p1.union(p2).union(p3)\n",
    "tuple_data.first()"
   ]
  },
  {
   "cell_type": "markdown",
   "metadata": {},
   "source": [
    "# <span style=\"color:red\">Add your code here!!!</span>"
   ]
  },
  {
   "cell_type": "code",
   "execution_count": 31,
   "metadata": {
    "collapsed": true
   },
   "outputs": [],
   "source": [
    "data = tuple_data.map(lambda p: [p[0], p[1]]).cache()"
   ]
  },
  {
   "cell_type": "code",
   "execution_count": 32,
   "metadata": {
    "collapsed": false
   },
   "outputs": [
    {
     "data": {
      "text/plain": [
       "[-1.3162996856301623, 0.33898291553952464]"
      ]
     },
     "execution_count": 32,
     "metadata": {},
     "output_type": "execute_result"
    }
   ],
   "source": [
    "data.first()"
   ]
  },
  {
   "cell_type": "markdown",
   "metadata": {},
   "source": [
    "# training"
   ]
  },
  {
   "cell_type": "markdown",
   "metadata": {},
   "source": [
    "# <span style=\"color:red\">Add your code here!!!</span>"
   ]
  },
  {
   "cell_type": "code",
   "execution_count": 33,
   "metadata": {
    "collapsed": true
   },
   "outputs": [],
   "source": [
    "clusters = KMeans.train(data, 3, maxIterations=10, initializationMode=\"random\")"
   ]
  },
  {
   "cell_type": "markdown",
   "metadata": {},
   "source": [
    "# validation"
   ]
  },
  {
   "cell_type": "code",
   "execution_count": null,
   "metadata": {
    "collapsed": false
   },
   "outputs": [],
   "source": [
    "clusters.centers"
   ]
  },
  {
   "cell_type": "code",
   "execution_count": null,
   "metadata": {
    "collapsed": false
   },
   "outputs": [],
   "source": [
    "plt.axis([-5, 5, -1, 2])\n",
    "plt.plot(x1,y1,'r*')\n",
    "plt.plot(x2,y2,'bs')\n",
    "plt.plot(x3,y3,'gx')\n",
    "\n",
    "plt.plot(clusters.centers[0][0],clusters.centers[0][1],'yo')\n",
    "plt.plot(clusters.centers[1][0],clusters.centers[1][1],'yo')\n",
    "plt.plot(clusters.centers[2][0],clusters.centers[2][1],'yo')"
   ]
  },
  {
   "cell_type": "markdown",
   "metadata": {},
   "source": [
    "# prediction"
   ]
  },
  {
   "cell_type": "code",
   "execution_count": null,
   "metadata": {
    "collapsed": false
   },
   "outputs": [],
   "source": [
    "for p in data.take(10):\n",
    "    predict = clusters.predict(p)\n",
    "    plt.plot(clusters.centers[predict][0], clusters.centers[predict][1], 'bo')\n",
    "    plt.plot(p[0],p[1],'r*')"
   ]
  },
  {
   "cell_type": "code",
   "execution_count": null,
   "metadata": {
    "collapsed": true
   },
   "outputs": [],
   "source": []
  }
 ],
 "metadata": {
  "kernelspec": {
   "display_name": "Python 2",
   "language": "python",
   "name": "python2"
  },
  "language_info": {
   "codemirror_mode": {
    "name": "ipython",
    "version": 2
   },
   "file_extension": ".py",
   "mimetype": "text/x-python",
   "name": "python",
   "nbconvert_exporter": "python",
   "pygments_lexer": "ipython2",
   "version": "2.7.11"
  }
 },
 "nbformat": 4,
 "nbformat_minor": 0
}
