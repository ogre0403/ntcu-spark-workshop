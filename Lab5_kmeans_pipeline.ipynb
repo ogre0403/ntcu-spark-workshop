{
 "cells": [
  {
   "cell_type": "markdown",
   "metadata": {},
   "source": [
    "# Ref: [A sample ML Pipeline for Clustering in Spark](https://blog.knoldus.com/2016/02/09/a-sample-ml-pipeline-for-clustering-in-spark/)"
   ]
  },
  {
   "cell_type": "code",
   "execution_count": null,
   "metadata": {
    "collapsed": false
   },
   "outputs": [],
   "source": [
    "from pyspark.ml import Pipeline\n",
    "from pyspark.ml.feature import  StringIndexer,  VectorIndexer,VectorAssembler\n",
    "from pyspark.ml.clustering import KMeans\n",
    "import random\n",
    "import matplotlib.pyplot as plt\n",
    "%matplotlib inline"
   ]
  },
  {
   "cell_type": "markdown",
   "metadata": {},
   "source": [
    "# 產生sample data"
   ]
  },
  {
   "cell_type": "code",
   "execution_count": null,
   "metadata": {
    "collapsed": false
   },
   "outputs": [],
   "source": [
    "x1 = [random.uniform(-3,-1) for i in range(30)]\n",
    "y1 = [random.uniform(-0.5,0.5) for i in range(30)]\n",
    "p1x = sc.parallelize(x1)\n",
    "p1y = sc.parallelize(y1)\n",
    "p1 = p1x.zip(p1y)\n",
    "\n",
    "x2 = [random.uniform(-1,1) for i in range(30)]\n",
    "y2 = [random.uniform(0.5,1.5) for i in range(30)]\n",
    "p2x = sc.parallelize(x2)\n",
    "p2y = sc.parallelize(y2)\n",
    "p2 = p2x.zip(p2y)\n",
    "\n",
    "x3 = [random.uniform(1,3) for i in range(30)]\n",
    "y3 = [random.uniform(-0.5,0.5) for i in range(30)]\n",
    "p3x = sc.parallelize(x3)\n",
    "p3y = sc.parallelize(y3)\n",
    "p3 = p3x.zip(p3y)\n",
    "\n",
    "data = p1.union(p2).union(p3).cache()\n"
   ]
  },
  {
   "cell_type": "markdown",
   "metadata": {},
   "source": [
    "# 建立dataframe"
   ]
  },
  {
   "cell_type": "code",
   "execution_count": null,
   "metadata": {
    "collapsed": false
   },
   "outputs": [],
   "source": [
    "pointDF = data.toDF().toDF(\"x\",\"y\")\n",
    "pointDF.count()\n",
    "pointDF.show(5)"
   ]
  },
  {
   "cell_type": "markdown",
   "metadata": {},
   "source": [
    "# 建立kmeans pipeline"
   ]
  },
  {
   "cell_type": "code",
   "execution_count": null,
   "metadata": {
    "collapsed": false
   },
   "outputs": [],
   "source": [
    "vectorAssembler = VectorAssembler(inputCols=[\"x\",\"y\"], outputCol=\"features\")\n",
    "kmeans = KMeans().setK(3).setSeed(1L).setFeaturesCol(\"features\").setPredictionCol(\"prediction\")\n",
    "km_pipeline = Pipeline(stages=[vectorAssembler,kmeans])"
   ]
  },
  {
   "cell_type": "markdown",
   "metadata": {},
   "source": [
    "# training"
   ]
  },
  {
   "cell_type": "code",
   "execution_count": null,
   "metadata": {
    "collapsed": false
   },
   "outputs": [],
   "source": [
    "km_pipelineModel = km_pipeline.fit(pointDF)"
   ]
  },
  {
   "cell_type": "markdown",
   "metadata": {},
   "source": [
    "# prediction"
   ]
  },
  {
   "cell_type": "code",
   "execution_count": null,
   "metadata": {
    "collapsed": false
   },
   "outputs": [],
   "source": [
    "predictionResult = km_pipelineModel.transform(pointDF)"
   ]
  },
  {
   "cell_type": "code",
   "execution_count": null,
   "metadata": {
    "collapsed": false
   },
   "outputs": [],
   "source": [
    "predictionResult.show(10)"
   ]
  },
  {
   "cell_type": "markdown",
   "metadata": {},
   "source": [
    "# 轉成Pandas dataframe呈現"
   ]
  },
  {
   "cell_type": "code",
   "execution_count": null,
   "metadata": {
    "collapsed": false
   },
   "outputs": [],
   "source": [
    "pdf = predictionResult.toPandas()\n",
    "pdf"
   ]
  },
  {
   "cell_type": "code",
   "execution_count": null,
   "metadata": {
    "collapsed": false
   },
   "outputs": [],
   "source": [
    "ax = pdf[(pdf.prediction == 0)].plot.scatter(x='x', y='y', color='Green');\n",
    "pdf[(pdf.prediction == 1)].plot.scatter(x='x', y='y', color='Red', ax=ax);\n",
    "pdf[(pdf.prediction == 2)].plot.scatter(x='x', y='y', color='Blue', ax=ax);"
   ]
  },
  {
   "cell_type": "code",
   "execution_count": null,
   "metadata": {
    "collapsed": true
   },
   "outputs": [],
   "source": []
  }
 ],
 "metadata": {
  "kernelspec": {
   "display_name": "Python 2",
   "language": "python",
   "name": "python2"
  },
  "language_info": {
   "codemirror_mode": {
    "name": "ipython",
    "version": 2
   },
   "file_extension": ".py",
   "mimetype": "text/x-python",
   "name": "python",
   "nbconvert_exporter": "python",
   "pygments_lexer": "ipython2",
   "version": "2.7.11"
  }
 },
 "nbformat": 4,
 "nbformat_minor": 0
}
