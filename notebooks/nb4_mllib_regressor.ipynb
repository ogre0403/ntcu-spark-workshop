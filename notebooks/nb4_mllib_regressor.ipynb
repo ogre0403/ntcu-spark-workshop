{
 "cells": [
  {
   "cell_type": "markdown",
   "metadata": {},
   "source": [
    "# 預測腳踏車每小時的租借量"
   ]
  },
  {
   "cell_type": "markdown",
   "metadata": {},
   "source": [
    "## 問題描述"
   ]
  },
  {
   "cell_type": "markdown",
   "metadata": {},
   "source": [
    "### 依不同的因素，預測每小時租借腳踏車的人數，\n",
    "### 考慮的因素(特徵值)有季節、月份、時間、假日、星期、工作天、天氣、溫度、體感溫度、濕度、風速，\n",
    "### 而預測目標(label)為 每一小時的租用數量"
   ]
  },
  {
   "cell_type": "code",
   "execution_count": null,
   "metadata": {
    "collapsed": true
   },
   "outputs": [],
   "source": [
    "import numpy as np\n",
    "from pyspark.mllib.regression import LabeledPoint\n",
    "from pyspark.mllib.evaluation import RegressionMetrics\n",
    "from pyspark.mllib.tree import DecisionTree\n",
    "import math "
   ]
  },
  {
   "cell_type": "code",
   "execution_count": null,
   "metadata": {
    "collapsed": true
   },
   "outputs": [],
   "source": [
    "global Path  \n",
    "Path=\"file:/home/spark/spark-workshop/\""
   ]
  },
  {
   "cell_type": "markdown",
   "metadata": {},
   "source": [
    "## Note: we need some utility function to hanlde RDD"
   ]
  },
  {
   "cell_type": "code",
   "execution_count": null,
   "metadata": {
    "collapsed": true
   },
   "outputs": [],
   "source": [
    "def convert_float(x):\n",
    "    return (0 if x==\"?\" else float(x))"
   ]
  },
  {
   "cell_type": "code",
   "execution_count": null,
   "metadata": {
    "collapsed": true
   },
   "outputs": [],
   "source": [
    "def extract_label(record):\n",
    "    label=(record[-1])\n",
    "    return float(label)"
   ]
  },
  {
   "cell_type": "code",
   "execution_count": null,
   "metadata": {
    "collapsed": true
   },
   "outputs": [],
   "source": [
    "# 原始資料來源的格式包括: \n",
    "# instant,dteday,season,yr,mnth,hr,holiday,weekday,workingday,weathersit,temp,atemp,hum,windspeed,casual,registered,cnt\n",
    "# 把要考慮的特徵值(季節、月份、時間、假日、星期、工作天、天氣、溫度、體感溫度、濕度、風速)取出 \n",
    "# season, mnth,hr,holiday,weekday,workingday,weathersit,temp,atemp,hum,windspeed\n",
    "def extract_features(record,featureEnd):\n",
    "    featureSeason=[convert_float(field)  for  field in record[2]] \n",
    "    features=[convert_float(field)  for  field in record[4: featureEnd-2]]\n",
    "    return  np.concatenate( (featureSeason, features))"
   ]
  },
  {
   "cell_type": "markdown",
   "metadata": {},
   "source": [
    "# 準備資料"
   ]
  },
  {
   "cell_type": "code",
   "execution_count": null,
   "metadata": {
    "collapsed": false
   },
   "outputs": [],
   "source": [
    "#----------------------1.匯入並轉換資料-------------\n",
    "print(\"開始匯入資料...\")\n",
    "rawDataWithHeader = sc.textFile(Path+\"data/hour.csv\")\n",
    "header = rawDataWithHeader.first() \n",
    "rawData = rawDataWithHeader.filter(lambda x:x !=header)    \n",
    "lines = rawData.map(lambda x: x.split(\",\"))\n",
    "print(\"共計：\" + str(lines.count()) + \"筆\\n\")\n",
    "print (\"RDD 資料格式為: \\n\" + str(lines.first()))"
   ]
  },
  {
   "cell_type": "markdown",
   "metadata": {},
   "source": [
    "### RDD[tuple] -> RDD[LabelPoint]"
   ]
  },
  {
   "cell_type": "code",
   "execution_count": null,
   "metadata": {
    "collapsed": true
   },
   "outputs": [],
   "source": [
    "#----------------------2.建立訓練評估所需資料 RDD[LabeledPoint]-------------\n",
    "labelpointRDD = lines.map(lambda r:LabeledPoint(\n",
    "                                        extract_label(r), \n",
    "                                        extract_features(r,len(r) - 1)))"
   ]
  },
  {
   "cell_type": "code",
   "execution_count": null,
   "metadata": {
    "collapsed": false
   },
   "outputs": [],
   "source": [
    "print (lines.first())"
   ]
  },
  {
   "cell_type": "code",
   "execution_count": null,
   "metadata": {
    "collapsed": false
   },
   "outputs": [],
   "source": [
    "print labelpointRDD.first()"
   ]
  },
  {
   "cell_type": "markdown",
   "metadata": {},
   "source": [
    "# 訓練模型\n"
   ]
  },
  {
   "cell_type": "code",
   "execution_count": null,
   "metadata": {
    "collapsed": false
   },
   "outputs": [],
   "source": [
    "#----------------------3.以隨機方式將資料分為2部份, 訓練 & 驗證-------------\n",
    "(trainData, validationData) = labelpointRDD.randomSplit([99, 1])\n",
    "trainData.persist()\n",
    "validationData.persist()\n",
    "\n",
    "model = DecisionTree.trainRegressor(trainData, categoricalFeaturesInfo={}, impurity=\"variance\", maxDepth=10, maxBins=100)"
   ]
  },
  {
   "cell_type": "markdown",
   "metadata": {},
   "source": [
    "# 進行預測"
   ]
  },
  {
   "cell_type": "code",
   "execution_count": null,
   "metadata": {
    "collapsed": false
   },
   "outputs": [],
   "source": [
    "for lp in validationData.take(100):\n",
    "        predict = int(model.predict(lp.features))\n",
    "        label=lp.label\n",
    "        features=lp.features\n",
    "        error = math.fabs(label - predict)\n",
    "        dataDesc = \"==> 預測結果: \" + str(predict ) + \"  \\t 實際:\" + str(label) + \" \\t 誤差:\" + str(error)\n",
    "        print dataDesc"
   ]
  },
  {
   "cell_type": "code",
   "execution_count": null,
   "metadata": {
    "collapsed": true
   },
   "outputs": [],
   "source": []
  }
 ],
 "metadata": {
  "kernelspec": {
   "display_name": "Python 2",
   "language": "python",
   "name": "python2"
  },
  "language_info": {
   "codemirror_mode": {
    "name": "ipython",
    "version": 2
   },
   "file_extension": ".py",
   "mimetype": "text/x-python",
   "name": "python",
   "nbconvert_exporter": "python",
   "pygments_lexer": "ipython2",
   "version": "2.7.11"
  }
 },
 "nbformat": 4,
 "nbformat_minor": 0
}
