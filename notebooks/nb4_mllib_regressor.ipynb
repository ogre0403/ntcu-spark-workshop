{
 "cells": [
  {
   "cell_type": "markdown",
   "metadata": {},
   "source": [
    "# 預測腳踏車每小時的租借量\n"
   ]
  },
  {
   "cell_type": "code",
   "execution_count": null,
   "metadata": {
    "collapsed": true
   },
   "outputs": [],
   "source": [
    "import numpy as np\n",
    "from pyspark.mllib.regression import LabeledPoint\n",
    "from pyspark.mllib.evaluation import RegressionMetrics\n",
    "from pyspark.mllib.tree import DecisionTree\n",
    "import math "
   ]
  },
  {
   "cell_type": "code",
   "execution_count": null,
   "metadata": {
    "collapsed": true
   },
   "outputs": [],
   "source": [
    "#----------------------3.定義字典----------------\n",
    "SeasonDict = { 1 : \"春\",  2 : \"夏\",  3 :\"秋\",  4 : \"冬\"   }\n",
    "HoildayDict={  0 : \"非假日\", 1 : \"假日\"  }  \n",
    "WeekDict = {0:\"一\",1:\"二\",2:\"三\",3:\"四\",4 :\"五\",5:\"六\",6:\"日\"}\n",
    "WorkDayDict={ 1 : \"工作日\",  0 : \"非工作日\"  }\n",
    "WeatherDict={ 1 : \"晴\",  2 : \"陰\",  3 : \"小雨\", 4 : \"大雨\" }"
   ]
  },
  {
   "cell_type": "code",
   "execution_count": null,
   "metadata": {
    "collapsed": true
   },
   "outputs": [],
   "source": [
    "global Path  \n",
    "Path=\"file:/home/spark/ntcu_workshop/\""
   ]
  },
  {
   "cell_type": "markdown",
   "metadata": {},
   "source": [
    "## Note: we need some utility function to hanlde RDD"
   ]
  },
  {
   "cell_type": "code",
   "execution_count": null,
   "metadata": {
    "collapsed": true
   },
   "outputs": [],
   "source": [
    "def convert_float(x):\n",
    "    return (0 if x==\"?\" else float(x))"
   ]
  },
  {
   "cell_type": "code",
   "execution_count": null,
   "metadata": {
    "collapsed": true
   },
   "outputs": [],
   "source": [
    "def extract_label(record):\n",
    "    label=(record[-1])\n",
    "    return float(label)"
   ]
  },
  {
   "cell_type": "code",
   "execution_count": null,
   "metadata": {
    "collapsed": true
   },
   "outputs": [],
   "source": [
    "def extract_features(record,featureEnd):\n",
    "    featureSeason=[convert_float(field)  for  field in record[2]] \n",
    "    features=[convert_float(field)  for  field in record[4: featureEnd-2]]\n",
    "    return  np.concatenate( (featureSeason, features))"
   ]
  },
  {
   "cell_type": "code",
   "execution_count": null,
   "metadata": {
    "collapsed": true
   },
   "outputs": [],
   "source": [
    "def evaluateModel(model, validationData):\n",
    "    score = model.predict(validationData.map(lambda p: p.features))\n",
    "    scoreAndLabels=score.zip(validationData.map(lambda p: p.label))\n",
    "    metrics = RegressionMetrics(scoreAndLabels)\n",
    "    RMSE=metrics.rootMeanSquaredError\n",
    "    return( RMSE)"
   ]
  },
  {
   "cell_type": "markdown",
   "metadata": {},
   "source": [
    "# 準備資料"
   ]
  },
  {
   "cell_type": "code",
   "execution_count": null,
   "metadata": {
    "collapsed": false
   },
   "outputs": [],
   "source": [
    "#----------------------1.匯入並轉換資料-------------\n",
    "print(\"開始匯入資料...\")\n",
    "rawDataWithHeader = sc.textFile(Path+\"data/hour.csv\")\n",
    "header = rawDataWithHeader.first() \n",
    "rawData = rawDataWithHeader.filter(lambda x:x !=header)    \n",
    "lines = rawData.map(lambda x: x.split(\",\"))\n",
    "# print (lines.first())\n",
    "print(\"共計：\" + str(lines.count()) + \"筆\")"
   ]
  },
  {
   "cell_type": "code",
   "execution_count": null,
   "metadata": {
    "collapsed": true
   },
   "outputs": [],
   "source": [
    "#----------------------2.建立訓練評估所需資料 RDD[LabeledPoint]-------------\n",
    "labelpointRDD = lines.map(lambda r:LabeledPoint(\n",
    "                                        extract_label(r), \n",
    "                                        extract_features(r,len(r) - 1)))"
   ]
  },
  {
   "cell_type": "markdown",
   "metadata": {},
   "source": [
    "### RDD[tuple] -> RDD[LabelPoint]"
   ]
  },
  {
   "cell_type": "code",
   "execution_count": null,
   "metadata": {
    "collapsed": false
   },
   "outputs": [],
   "source": [
    "print (lines.first())"
   ]
  },
  {
   "cell_type": "code",
   "execution_count": null,
   "metadata": {
    "collapsed": false
   },
   "outputs": [],
   "source": [
    "print labelpointRDD.first()"
   ]
  },
  {
   "cell_type": "code",
   "execution_count": null,
   "metadata": {
    "collapsed": false
   },
   "outputs": [],
   "source": [
    "#----------------------3.以隨機方式將資料分為3部份並且回傳-------------\n",
    "(trainData, validationData, testData) = labelpointRDD.randomSplit([8, 1, 1])\n",
    "trainData.persist()\n",
    "validationData.persist()\n",
    "testData.persist()"
   ]
  },
  {
   "cell_type": "markdown",
   "metadata": {},
   "source": [
    "# 訓練模型\n"
   ]
  },
  {
   "cell_type": "code",
   "execution_count": null,
   "metadata": {
    "collapsed": false
   },
   "outputs": [],
   "source": [
    "model = DecisionTree.trainRegressor(trainData, categoricalFeaturesInfo={}, impurity=\"variance\", maxDepth=10, maxBins=100)"
   ]
  },
  {
   "cell_type": "markdown",
   "metadata": {},
   "source": [
    "# 進行預測"
   ]
  },
  {
   "cell_type": "code",
   "execution_count": null,
   "metadata": {
    "collapsed": false
   },
   "outputs": [],
   "source": [
    "for lp in validationData.take(100):\n",
    "        predict = int(model.predict(lp.features))\n",
    "        label=lp.label\n",
    "        features=lp.features\n",
    "        result = (\"正確\" if  (label == predict) else \"錯誤\")\n",
    "        error = math.fabs(label - predict)\n",
    "        dataDesc = \"==> 預測結果:\" + str(predict ) + \" , 實際: \" + str(label) + result +\", 誤差:\" + str(error)\n",
    "        print dataDesc"
   ]
  },
  {
   "cell_type": "code",
   "execution_count": null,
   "metadata": {
    "collapsed": true
   },
   "outputs": [],
   "source": []
  }
 ],
 "metadata": {
  "kernelspec": {
   "display_name": "Python 2",
   "language": "python",
   "name": "python2"
  },
  "language_info": {
   "codemirror_mode": {
    "name": "ipython",
    "version": 2
   },
   "file_extension": ".py",
   "mimetype": "text/x-python",
   "name": "python",
   "nbconvert_exporter": "python",
   "pygments_lexer": "ipython2",
   "version": "2.7.11"
  }
 },
 "nbformat": 4,
 "nbformat_minor": 0
}
